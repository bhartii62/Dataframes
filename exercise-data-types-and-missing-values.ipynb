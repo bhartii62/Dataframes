{
 "cells": [
  {
   "cell_type": "markdown",
   "id": "10d482df",
   "metadata": {
    "papermill": {
     "duration": 0.015091,
     "end_time": "2021-08-28T11:46:36.864650",
     "exception": false,
     "start_time": "2021-08-28T11:46:36.849559",
     "status": "completed"
    },
    "tags": []
   },
   "source": [
    "**This notebook is an exercise in the [Pandas](https://www.kaggle.com/learn/pandas) course.  You can reference the tutorial at [this link](https://www.kaggle.com/residentmario/data-types-and-missing-values).**\n",
    "\n",
    "---\n"
   ]
  },
  {
   "cell_type": "markdown",
   "id": "004c46e9",
   "metadata": {
    "papermill": {
     "duration": 0.013079,
     "end_time": "2021-08-28T11:46:36.890982",
     "exception": false,
     "start_time": "2021-08-28T11:46:36.877903",
     "status": "completed"
    },
    "tags": []
   },
   "source": [
    "# Introduction\n",
    "\n",
    "Run the following cell to load your data and some utility functions."
   ]
  },
  {
   "cell_type": "code",
   "execution_count": 1,
   "id": "4e67fb75",
   "metadata": {
    "execution": {
     "iopub.execute_input": "2021-08-28T11:46:36.932127Z",
     "iopub.status.busy": "2021-08-28T11:46:36.931386Z",
     "iopub.status.idle": "2021-08-28T11:46:40.228542Z",
     "shell.execute_reply": "2021-08-28T11:46:40.229372Z",
     "shell.execute_reply.started": "2021-08-28T11:37:52.696868Z"
    },
    "papermill": {
     "duration": 3.325456,
     "end_time": "2021-08-28T11:46:40.229818",
     "exception": false,
     "start_time": "2021-08-28T11:46:36.904362",
     "status": "completed"
    },
    "tags": []
   },
   "outputs": [
    {
     "name": "stdout",
     "output_type": "stream",
     "text": [
      "Setup complete.\n"
     ]
    }
   ],
   "source": [
    "import pandas as pd\n",
    "\n",
    "reviews = pd.read_csv(\"../input/wine-reviews/winemag-data-130k-v2.csv\", index_col=0)\n",
    "\n",
    "from learntools.core import binder; binder.bind(globals())\n",
    "from learntools.pandas.data_types_and_missing_data import *\n",
    "print(\"Setup complete.\")"
   ]
  },
  {
   "cell_type": "markdown",
   "id": "4e0e7a41",
   "metadata": {
    "papermill": {
     "duration": 0.012583,
     "end_time": "2021-08-28T11:46:40.257918",
     "exception": false,
     "start_time": "2021-08-28T11:46:40.245335",
     "status": "completed"
    },
    "tags": []
   },
   "source": [
    "# Exercises"
   ]
  },
  {
   "cell_type": "markdown",
   "id": "886752dc",
   "metadata": {
    "papermill": {
     "duration": 0.012826,
     "end_time": "2021-08-28T11:46:40.283774",
     "exception": false,
     "start_time": "2021-08-28T11:46:40.270948",
     "status": "completed"
    },
    "tags": []
   },
   "source": [
    "## 1. \n",
    "What is the data type of the `points` column in the dataset?"
   ]
  },
  {
   "cell_type": "code",
   "execution_count": 2,
   "id": "1e3a67cc",
   "metadata": {
    "execution": {
     "iopub.execute_input": "2021-08-28T11:46:40.314037Z",
     "iopub.status.busy": "2021-08-28T11:46:40.313225Z",
     "iopub.status.idle": "2021-08-28T11:46:40.323297Z",
     "shell.execute_reply": "2021-08-28T11:46:40.323818Z",
     "shell.execute_reply.started": "2021-08-28T11:38:37.678922Z"
    },
    "papermill": {
     "duration": 0.027013,
     "end_time": "2021-08-28T11:46:40.324007",
     "exception": false,
     "start_time": "2021-08-28T11:46:40.296994",
     "status": "completed"
    },
    "tags": []
   },
   "outputs": [
    {
     "data": {
      "application/javascript": [
       "parent.postMessage({\"jupyterEvent\": \"custom.exercise_interaction\", \"data\": {\"outcomeType\": 1, \"valueTowardsCompletion\": 0.25, \"interactionType\": 1, \"questionType\": 1, \"questionId\": \"1_PointsDtype\", \"learnToolsVersion\": \"0.3.4\", \"failureMessage\": \"\", \"exceptionClass\": \"\", \"trace\": \"\"}}, \"*\")"
      ],
      "text/plain": [
       "<IPython.core.display.Javascript object>"
      ]
     },
     "metadata": {},
     "output_type": "display_data"
    },
    {
     "data": {
      "text/markdown": [
       "<span style=\"color:#33cc33\">Correct</span>"
      ],
      "text/plain": [
       "Correct"
      ]
     },
     "metadata": {},
     "output_type": "display_data"
    }
   ],
   "source": [
    "# Your code here\n",
    "dtype = reviews.points.dtype\n",
    "\n",
    "# Check your answer\n",
    "q1.check()"
   ]
  },
  {
   "cell_type": "code",
   "execution_count": 3,
   "id": "084adffa",
   "metadata": {
    "execution": {
     "iopub.execute_input": "2021-08-28T11:46:40.354985Z",
     "iopub.status.busy": "2021-08-28T11:46:40.354263Z",
     "iopub.status.idle": "2021-08-28T11:46:40.358534Z",
     "shell.execute_reply": "2021-08-28T11:46:40.357844Z"
    },
    "papermill": {
     "duration": 0.020837,
     "end_time": "2021-08-28T11:46:40.358686",
     "exception": false,
     "start_time": "2021-08-28T11:46:40.337849",
     "status": "completed"
    },
    "tags": []
   },
   "outputs": [],
   "source": [
    "#q1.hint()\n",
    "#q1.solution()"
   ]
  },
  {
   "cell_type": "markdown",
   "id": "1addf382",
   "metadata": {
    "papermill": {
     "duration": 0.013984,
     "end_time": "2021-08-28T11:46:40.387644",
     "exception": false,
     "start_time": "2021-08-28T11:46:40.373660",
     "status": "completed"
    },
    "tags": []
   },
   "source": [
    "## 2. \n",
    "Create a Series from entries in the `points` column, but convert the entries to strings. Hint: strings are `str` in native Python."
   ]
  },
  {
   "cell_type": "code",
   "execution_count": 4,
   "id": "812faa1a",
   "metadata": {
    "execution": {
     "iopub.execute_input": "2021-08-28T11:46:40.421808Z",
     "iopub.status.busy": "2021-08-28T11:46:40.420684Z",
     "iopub.status.idle": "2021-08-28T11:46:40.597009Z",
     "shell.execute_reply": "2021-08-28T11:46:40.597519Z",
     "shell.execute_reply.started": "2021-08-28T11:40:38.708869Z"
    },
    "papermill": {
     "duration": 0.195517,
     "end_time": "2021-08-28T11:46:40.597742",
     "exception": false,
     "start_time": "2021-08-28T11:46:40.402225",
     "status": "completed"
    },
    "tags": []
   },
   "outputs": [
    {
     "data": {
      "application/javascript": [
       "parent.postMessage({\"jupyterEvent\": \"custom.exercise_interaction\", \"data\": {\"outcomeType\": 1, \"valueTowardsCompletion\": 0.25, \"interactionType\": 1, \"questionType\": 1, \"questionId\": \"2_StrPoints\", \"learnToolsVersion\": \"0.3.4\", \"failureMessage\": \"\", \"exceptionClass\": \"\", \"trace\": \"\"}}, \"*\")"
      ],
      "text/plain": [
       "<IPython.core.display.Javascript object>"
      ]
     },
     "metadata": {},
     "output_type": "display_data"
    },
    {
     "data": {
      "text/markdown": [
       "<span style=\"color:#33cc33\">Correct</span>"
      ],
      "text/plain": [
       "Correct"
      ]
     },
     "metadata": {},
     "output_type": "display_data"
    }
   ],
   "source": [
    "point_strings = reviews.points.astype('str')\n",
    "\n",
    "# Check your answer\n",
    "q2.check()"
   ]
  },
  {
   "cell_type": "code",
   "execution_count": 5,
   "id": "831b01fc",
   "metadata": {
    "execution": {
     "iopub.execute_input": "2021-08-28T11:46:40.631929Z",
     "iopub.status.busy": "2021-08-28T11:46:40.630972Z",
     "iopub.status.idle": "2021-08-28T11:46:40.634722Z",
     "shell.execute_reply": "2021-08-28T11:46:40.635207Z"
    },
    "papermill": {
     "duration": 0.022766,
     "end_time": "2021-08-28T11:46:40.635406",
     "exception": false,
     "start_time": "2021-08-28T11:46:40.612640",
     "status": "completed"
    },
    "tags": []
   },
   "outputs": [],
   "source": [
    "#q2.hint()\n",
    "#q2.solution()"
   ]
  },
  {
   "cell_type": "markdown",
   "id": "8c34f7c1",
   "metadata": {
    "papermill": {
     "duration": 0.015053,
     "end_time": "2021-08-28T11:46:40.665848",
     "exception": false,
     "start_time": "2021-08-28T11:46:40.650795",
     "status": "completed"
    },
    "tags": []
   },
   "source": [
    "## 3.\n",
    "Sometimes the price column is null. How many reviews in the dataset are missing a price?"
   ]
  },
  {
   "cell_type": "code",
   "execution_count": 6,
   "id": "42f4c0b0",
   "metadata": {
    "execution": {
     "iopub.execute_input": "2021-08-28T11:46:40.700773Z",
     "iopub.status.busy": "2021-08-28T11:46:40.699648Z",
     "iopub.status.idle": "2021-08-28T11:46:40.709266Z",
     "shell.execute_reply": "2021-08-28T11:46:40.709832Z",
     "shell.execute_reply.started": "2021-08-28T11:42:50.388412Z"
    },
    "papermill": {
     "duration": 0.028518,
     "end_time": "2021-08-28T11:46:40.710025",
     "exception": false,
     "start_time": "2021-08-28T11:46:40.681507",
     "status": "completed"
    },
    "tags": []
   },
   "outputs": [
    {
     "data": {
      "application/javascript": [
       "parent.postMessage({\"jupyterEvent\": \"custom.exercise_interaction\", \"data\": {\"outcomeType\": 1, \"valueTowardsCompletion\": 0.25, \"interactionType\": 1, \"questionType\": 1, \"questionId\": \"3_CountMissingPrices\", \"learnToolsVersion\": \"0.3.4\", \"failureMessage\": \"\", \"exceptionClass\": \"\", \"trace\": \"\"}}, \"*\")"
      ],
      "text/plain": [
       "<IPython.core.display.Javascript object>"
      ]
     },
     "metadata": {},
     "output_type": "display_data"
    },
    {
     "data": {
      "text/markdown": [
       "<span style=\"color:#33cc33\">Correct</span>"
      ],
      "text/plain": [
       "Correct"
      ]
     },
     "metadata": {},
     "output_type": "display_data"
    }
   ],
   "source": [
    "n_missing_prices = pd.isnull(reviews.price).sum()\n",
    "\n",
    "# Check your answer\n",
    "q3.check()"
   ]
  },
  {
   "cell_type": "code",
   "execution_count": 7,
   "id": "f9a706df",
   "metadata": {
    "execution": {
     "iopub.execute_input": "2021-08-28T11:46:40.747085Z",
     "iopub.status.busy": "2021-08-28T11:46:40.746373Z",
     "iopub.status.idle": "2021-08-28T11:46:40.755976Z",
     "shell.execute_reply": "2021-08-28T11:46:40.755398Z",
     "shell.execute_reply.started": "2021-08-28T11:42:03.949117Z"
    },
    "papermill": {
     "duration": 0.028922,
     "end_time": "2021-08-28T11:46:40.756134",
     "exception": false,
     "start_time": "2021-08-28T11:46:40.727212",
     "status": "completed"
    },
    "tags": []
   },
   "outputs": [
    {
     "data": {
      "application/javascript": [
       "parent.postMessage({\"jupyterEvent\": \"custom.exercise_interaction\", \"data\": {\"interactionType\": 3, \"questionType\": 1, \"questionId\": \"3_CountMissingPrices\", \"learnToolsVersion\": \"0.3.4\", \"valueTowardsCompletion\": 0.0, \"failureMessage\": \"\", \"exceptionClass\": \"\", \"trace\": \"\", \"outcomeType\": 4}}, \"*\")"
      ],
      "text/plain": [
       "<IPython.core.display.Javascript object>"
      ]
     },
     "metadata": {},
     "output_type": "display_data"
    },
    {
     "data": {
      "text/markdown": [
       "<span style=\"color:#33cc99\">Solution:</span> \n",
       "```python\n",
       "missing_price_reviews = reviews[reviews.price.isnull()]\n",
       "n_missing_prices = len(missing_price_reviews)\n",
       "# Cute alternative solution: if we sum a boolean series, True is treated as 1 and False as 0\n",
       "n_missing_prices = reviews.price.isnull().sum()\n",
       "# or equivalently:\n",
       "n_missing_prices = pd.isnull(reviews.price).sum()\n",
       "\n",
       "```"
      ],
      "text/plain": [
       "Solution: \n",
       "```python\n",
       "missing_price_reviews = reviews[reviews.price.isnull()]\n",
       "n_missing_prices = len(missing_price_reviews)\n",
       "# Cute alternative solution: if we sum a boolean series, True is treated as 1 and False as 0\n",
       "n_missing_prices = reviews.price.isnull().sum()\n",
       "# or equivalently:\n",
       "n_missing_prices = pd.isnull(reviews.price).sum()\n",
       "\n",
       "```"
      ]
     },
     "metadata": {},
     "output_type": "display_data"
    }
   ],
   "source": [
    "#q3.hint()\n",
    "q3.solution()"
   ]
  },
  {
   "cell_type": "markdown",
   "id": "e6795dc3",
   "metadata": {
    "papermill": {
     "duration": 0.018232,
     "end_time": "2021-08-28T11:46:40.791644",
     "exception": false,
     "start_time": "2021-08-28T11:46:40.773412",
     "status": "completed"
    },
    "tags": []
   },
   "source": [
    "## 4.\n",
    "What are the most common wine-producing regions? Create a Series counting the number of times each value occurs in the `region_1` field. This field is often missing data, so replace missing values with `Unknown`. Sort in descending order.  Your output should look something like this:\n",
    "\n",
    "```\n",
    "Unknown                    21247\n",
    "Napa Valley                 4480\n",
    "                           ...  \n",
    "Bardolino Superiore            1\n",
    "Primitivo del Tarantino        1\n",
    "Name: region_1, Length: 1230, dtype: int64\n",
    "```"
   ]
  },
  {
   "cell_type": "code",
   "execution_count": 8,
   "id": "02b6e0d5",
   "metadata": {
    "execution": {
     "iopub.execute_input": "2021-08-28T11:46:40.845343Z",
     "iopub.status.busy": "2021-08-28T11:46:40.844583Z",
     "iopub.status.idle": "2021-08-28T11:46:40.935553Z",
     "shell.execute_reply": "2021-08-28T11:46:40.934841Z",
     "shell.execute_reply.started": "2021-08-28T11:45:49.588469Z"
    },
    "papermill": {
     "duration": 0.126418,
     "end_time": "2021-08-28T11:46:40.935708",
     "exception": false,
     "start_time": "2021-08-28T11:46:40.809290",
     "status": "completed"
    },
    "tags": []
   },
   "outputs": [
    {
     "data": {
      "application/javascript": [
       "parent.postMessage({\"jupyterEvent\": \"custom.exercise_interaction\", \"data\": {\"outcomeType\": 1, \"valueTowardsCompletion\": 0.25, \"interactionType\": 1, \"questionType\": 2, \"questionId\": \"4_ReviewsPerRegion\", \"learnToolsVersion\": \"0.3.4\", \"failureMessage\": \"\", \"exceptionClass\": \"\", \"trace\": \"\"}}, \"*\")"
      ],
      "text/plain": [
       "<IPython.core.display.Javascript object>"
      ]
     },
     "metadata": {},
     "output_type": "display_data"
    },
    {
     "data": {
      "text/markdown": [
       "<span style=\"color:#33cc33\">Correct</span>"
      ],
      "text/plain": [
       "Correct"
      ]
     },
     "metadata": {},
     "output_type": "display_data"
    }
   ],
   "source": [
    "reviews_per_region = reviews.region_1.fillna('Unknown').value_counts().sort_values(ascending=False)\n",
    "# Check your answer\n",
    "q4.check()"
   ]
  },
  {
   "cell_type": "code",
   "execution_count": 9,
   "id": "35843a1b",
   "metadata": {
    "execution": {
     "iopub.execute_input": "2021-08-28T11:46:40.978343Z",
     "iopub.status.busy": "2021-08-28T11:46:40.977564Z",
     "iopub.status.idle": "2021-08-28T11:46:40.981998Z",
     "shell.execute_reply": "2021-08-28T11:46:40.982556Z",
     "shell.execute_reply.started": "2021-08-28T11:44:12.94877Z"
    },
    "papermill": {
     "duration": 0.029188,
     "end_time": "2021-08-28T11:46:40.982738",
     "exception": false,
     "start_time": "2021-08-28T11:46:40.953550",
     "status": "completed"
    },
    "tags": []
   },
   "outputs": [
    {
     "data": {
      "application/javascript": [
       "parent.postMessage({\"jupyterEvent\": \"custom.exercise_interaction\", \"data\": {\"interactionType\": 3, \"questionType\": 2, \"questionId\": \"4_ReviewsPerRegion\", \"learnToolsVersion\": \"0.3.4\", \"valueTowardsCompletion\": 0.0, \"failureMessage\": \"\", \"exceptionClass\": \"\", \"trace\": \"\", \"outcomeType\": 4}}, \"*\")"
      ],
      "text/plain": [
       "<IPython.core.display.Javascript object>"
      ]
     },
     "metadata": {},
     "output_type": "display_data"
    },
    {
     "data": {
      "text/markdown": [
       "<span style=\"color:#33cc99\">Solution:</span> \n",
       "```python\n",
       "reviews_per_region = reviews.region_1.fillna('Unknown').value_counts().sort_values(ascending=False)\n",
       "```"
      ],
      "text/plain": [
       "Solution: \n",
       "```python\n",
       "reviews_per_region = reviews.region_1.fillna('Unknown').value_counts().sort_values(ascending=False)\n",
       "```"
      ]
     },
     "metadata": {},
     "output_type": "display_data"
    }
   ],
   "source": [
    "#q4.hint()\n",
    "\n",
    "q4.solution()"
   ]
  },
  {
   "cell_type": "markdown",
   "id": "48cfc076",
   "metadata": {
    "papermill": {
     "duration": 0.018498,
     "end_time": "2021-08-28T11:46:41.021699",
     "exception": false,
     "start_time": "2021-08-28T11:46:41.003201",
     "status": "completed"
    },
    "tags": []
   },
   "source": [
    "# Keep going\n",
    "\n",
    "Move on to **[renaming and combining](https://www.kaggle.com/residentmario/renaming-and-combining)**."
   ]
  },
  {
   "cell_type": "markdown",
   "id": "1a1f20c9",
   "metadata": {
    "papermill": {
     "duration": 0.020291,
     "end_time": "2021-08-28T11:46:41.062665",
     "exception": false,
     "start_time": "2021-08-28T11:46:41.042374",
     "status": "completed"
    },
    "tags": []
   },
   "source": [
    "---\n",
    "\n",
    "\n",
    "\n",
    "\n",
    "*Have questions or comments? Visit the [Learn Discussion forum](https://www.kaggle.com/learn-forum/161299) to chat with other Learners.*"
   ]
  }
 ],
 "metadata": {
  "kernelspec": {
   "display_name": "Python 3",
   "language": "python",
   "name": "python3"
  },
  "language_info": {
   "codemirror_mode": {
    "name": "ipython",
    "version": 3
   },
   "file_extension": ".py",
   "mimetype": "text/x-python",
   "name": "python",
   "nbconvert_exporter": "python",
   "pygments_lexer": "ipython3",
   "version": "3.7.10"
  },
  "papermill": {
   "default_parameters": {},
   "duration": 14.794685,
   "end_time": "2021-08-28T11:46:42.666936",
   "environment_variables": {},
   "exception": null,
   "input_path": "__notebook__.ipynb",
   "output_path": "__notebook__.ipynb",
   "parameters": {},
   "start_time": "2021-08-28T11:46:27.872251",
   "version": "2.3.3"
  }
 },
 "nbformat": 4,
 "nbformat_minor": 5
}
